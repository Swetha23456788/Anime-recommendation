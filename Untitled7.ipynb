{
  "nbformat": 4,
  "nbformat_minor": 0,
  "metadata": {
    "colab": {
      "provenance": [],
      "gpuType": "T4"
    },
    "kernelspec": {
      "name": "python3",
      "display_name": "Python 3"
    },
    "language_info": {
      "name": "python"
    },
    "accelerator": "GPU"
  },
  "cells": [
    {
      "cell_type": "code",
      "source": [
        "# Required libraries\n",
        "import pandas as pd\n",
        "import spacy\n",
        "from nltk.stem import WordNetLemmatizer\n",
        "from nltk.corpus import stopwords\n",
        "from sklearn.feature_extraction.text import TfidfVectorizer\n",
        "from sklearn.metrics.pairwise import cosine_similarity\n",
        "from tabulate import tabulate\n",
        "import nltk\n",
        "\n",
        "# Downloads (only run once)\n",
        "nltk.download('wordnet')\n",
        "nltk.download('stopwords')"
      ],
      "metadata": {
        "colab": {
          "base_uri": "https://localhost:8080/"
        },
        "id": "rzT1EwLCaKTS",
        "outputId": "dd8c6305-aa80-48e2-b0df-6bf8b439fe55"
      },
      "execution_count": 2,
      "outputs": [
        {
          "output_type": "stream",
          "name": "stderr",
          "text": [
            "[nltk_data] Downloading package wordnet to /root/nltk_data...\n",
            "[nltk_data]   Package wordnet is already up-to-date!\n",
            "[nltk_data] Downloading package stopwords to /root/nltk_data...\n",
            "[nltk_data]   Package stopwords is already up-to-date!\n"
          ]
        },
        {
          "output_type": "execute_result",
          "data": {
            "text/plain": [
              "True"
            ]
          },
          "metadata": {},
          "execution_count": 2
        }
      ]
    },
    {
      "cell_type": "code",
      "source": [
        "# Load tools\n",
        "stop_words = set(stopwords.words('english'))\n",
        "lemmatizer = WordNetLemmatizer()\n",
        "nlp = spacy.load(\"en_core_web_sm\")\n",
        "\n",
        "# Load data\n",
        "data = pd.read_csv('anime-dataset-2023.csv')\n",
        "data = data[[\"Name\", \"Synopsis\", \"Genres\"]].dropna()\n",
        "data = data.set_index('Name')\n",
        "\n",
        "# Preprocess genres into sets\n",
        "data['Genre_Set'] = data['Genres'].apply(lambda x: set(g.strip().lower() for g in x.split(',')))\n",
        "\n",
        "# Preprocess plot with spaCy + NLTK lemmatization\n",
        "def preprocess_sentences(text):\n",
        "    text = text.lower()\n",
        "    doc = nlp(text)\n",
        "    temp_sent = []\n",
        "    for token in doc:\n",
        "        if token.lemma_ not in stop_words and token.is_alpha:\n",
        "            if token.pos_ == \"VERB\":\n",
        "                lemmatized = lemmatizer.lemmatize(token.text, 'v')\n",
        "            else:\n",
        "                lemmatized = lemmatizer.lemmatize(token.text)\n",
        "            temp_sent.append(lemmatized)\n",
        "    return ' '.join(temp_sent)\n",
        "\n",
        "data[\"Processed_Plot\"] = data[\"Synopsis\"].apply(preprocess_sentences)\n",
        "\n",
        "# TF-IDF vectorization of processed plots\n",
        "tfidfvec = TfidfVectorizer()\n",
        "tfidf_matrix = tfidfvec.fit_transform(data[\"Processed_Plot\"])\n",
        "\n",
        "# Cosine similarity (plot)\n",
        "plot_similarity = cosine_similarity(tfidf_matrix, tfidf_matrix)\n",
        "\n",
        "# Index lookup\n",
        "indices = pd.Series(range(len(data)), index=data.index)\n",
        "\n",
        "# Genre similarity using Jaccard index\n",
        "def jaccard_similarity(set1, set2):\n",
        "    return len(set1 & set2) / len(set1 | set2) if set1 | set2 else 0\n",
        "\n",
        "# Recommendation function\n",
        "def recommend_anime(title, alpha=0.7):\n",
        "    title_lower = title.lower()\n",
        "    matched_titles = [name for name in data.index if name.lower() == title_lower]\n",
        "\n",
        "    if not matched_titles:\n",
        "        print(f\"\\n\\033[1;31mAnime title '{title}' not found in dataset.\\033[0m\")\n",
        "        return []\n",
        "\n",
        "    base_title = matched_titles[0]\n",
        "    base_index = indices[base_title]\n",
        "    base_genres = data.iloc[base_index]['Genre_Set']\n",
        "\n",
        "    combined_scores = []\n",
        "\n",
        "    for i in range(len(data)):\n",
        "        if i == base_index:\n",
        "            continue\n",
        "        candidate_title = data.index[i]\n",
        "\n",
        "        # Filter out titles with the same base word (franchise)\n",
        "        if title_lower in candidate_title.lower():\n",
        "            continue\n",
        "\n",
        "        genre_sim = jaccard_similarity(base_genres, data.iloc[i]['Genre_Set'])\n",
        "        plot_sim = plot_similarity[base_index][i]\n",
        "        total_sim = alpha * plot_sim + (1 - alpha) * genre_sim\n",
        "        combined_scores.append((candidate_title, total_sim))\n",
        "\n",
        "    # Sort and return top 10\n",
        "    combined_scores.sort(key=lambda x: x[1], reverse=True)\n",
        "    return [title for title, _ in combined_scores[:10]]\n"
      ],
      "metadata": {
        "id": "u7GjaYN1apja"
      },
      "execution_count": 3,
      "outputs": []
    },
    {
      "cell_type": "code",
      "source": [
        "# Take input\n",
        "anime_title = input(\"\\033[1;34mEnter the anime title: \\033[0m\")\n",
        "recommendations = recommend_anime(anime_title)\n",
        "\n",
        "# Display\n",
        "if recommendations:\n",
        "    table_data = [[i + 1, title] for i, title in enumerate(recommendations)]\n",
        "    print(f\"\\n\\033[1;32mRecommendations for \\033[1;36m{anime_title}\\033[1;32m:\\033[0m\")\n",
        "    print(\"\\033[1;37m\" + \"=\" * 50 + \"\\033[0m\")\n",
        "    print(tabulate(table_data, headers=[\"#\", \"Anime Title\"], tablefmt=\"fancy_grid\"))\n",
        "    print(\"\\033[1;37m\" + \"=\" * 50 + \"\\033[0m\")\n"
      ],
      "metadata": {
        "colab": {
          "base_uri": "https://localhost:8080/"
        },
        "id": "GEmSB2Oxar3h",
        "outputId": "37d9904e-a8b2-4e5c-caa2-42f3a5ed3e2a"
      },
      "execution_count": 4,
      "outputs": [
        {
          "output_type": "stream",
          "name": "stdout",
          "text": [
            "\u001b[1;34mEnter the anime title: \u001b[0mnaruto\n",
            "\n",
            "\u001b[1;32mRecommendations for \u001b[1;36mnaruto\u001b[1;32m:\u001b[0m\n",
            "\u001b[1;37m==================================================\u001b[0m\n",
            "╒═════╤═══════════════════════════════════════════════════════════════════╕\n",
            "│   # │ Anime Title                                                       │\n",
            "╞═════╪═══════════════════════════════════════════════════════════════════╡\n",
            "│   1 │ Jiang Ziya                                                        │\n",
            "├─────┼───────────────────────────────────────────────────────────────────┤\n",
            "│   2 │ Kogane no Hana                                                    │\n",
            "├─────┼───────────────────────────────────────────────────────────────────┤\n",
            "│   3 │ Nanatsu no Taizai Movie 1: Tenkuu no Torawarebito                 │\n",
            "├─────┼───────────────────────────────────────────────────────────────────┤\n",
            "│   4 │ Dahufa                                                            │\n",
            "├─────┼───────────────────────────────────────────────────────────────────┤\n",
            "│   5 │ Nanatsu no Taizai: Funnu no Shinpan                               │\n",
            "├─────┼───────────────────────────────────────────────────────────────────┤\n",
            "│   6 │ Dragon Quest: Dai no Daibouken Buchiyabure!! Shinsei 6 Daishougun │\n",
            "├─────┼───────────────────────────────────────────────────────────────────┤\n",
            "│   7 │ Dragon Quest: Dai no Daibouken (2020)                             │\n",
            "├─────┼───────────────────────────────────────────────────────────────────┤\n",
            "│   8 │ Nanatsu no Taizai: Imashime no Fukkatsu                           │\n",
            "├─────┼───────────────────────────────────────────────────────────────────┤\n",
            "│   9 │ Fanren Xiu Xian Chuan                                             │\n",
            "├─────┼───────────────────────────────────────────────────────────────────┤\n",
            "│  10 │ Orient                                                            │\n",
            "╘═════╧═══════════════════════════════════════════════════════════════════╛\n",
            "\u001b[1;37m==================================================\u001b[0m\n"
          ]
        }
      ]
    }
  ]
}